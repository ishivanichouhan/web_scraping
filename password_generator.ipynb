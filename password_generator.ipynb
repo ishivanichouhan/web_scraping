{
  "cells": [
    {
      "cell_type": "markdown",
      "metadata": {
        "id": "view-in-github",
        "colab_type": "text"
      },
      "source": [
        "<a href=\"https://colab.research.google.com/github/ishivanichouhan/web_scraping/blob/main/password_generator.ipynb\" target=\"_parent\"><img src=\"https://colab.research.google.com/assets/colab-badge.svg\" alt=\"Open In Colab\"/></a>"
      ]
    },
    {
      "cell_type": "markdown",
      "metadata": {
        "id": "OvwrDn_yGqVs"
      },
      "source": [
        "#Password Generator: Build a program that generates a random password for the user. Allow the user to specify the length and include options for including special characters, numbers, or uppercase letters."
      ]
    },
    {
      "cell_type": "markdown",
      "metadata": {
        "id": "bNjBuSf5dJY3"
      },
      "source": [
        "![images.jfif](data:image/jpeg;base64,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)"
      ]
    },
    {
      "cell_type": "markdown",
      "metadata": {
        "id": "J0M3lN7mziL4"
      },
      "source": [
        "[link text](https:// [link text](https:// [link text](https://)))# Loading Libraies"
      ]
    },
    {
      "cell_type": "markdown",
      "metadata": {
        "id": "At39Bmskpdyf"
      },
      "source": []
    },
    {
      "cell_type": "code",
      "execution_count": null,
      "metadata": {
        "id": "wFmWsircyeDs"
      },
      "outputs": [],
      "source": [
        "import random # random module use for gener ate random numbers\n",
        "import string # string module use for gathering data like that upercase data , lowercase data,digits, punctuation data"
      ]
    },
    {
      "cell_type": "markdown",
      "metadata": {
        "id": "uEBQ9lAU2TK3"
      },
      "source": [
        "Getting password length"
      ]
    },
    {
      "cell_type": "code",
      "execution_count": null,
      "metadata": {
        "colab": {
          "background_save": true,
          "base_uri": "https://localhost:8080/"
        },
        "id": "oqThDFOY4JJd",
        "outputId": "3d6b4ba7-fc2c-4b5c-cbd5-d989093c70bb"
      },
      "outputs": [
        {
          "name": "stdout",
          "output_type": "stream",
          "text": [
            "welcome to our random password generator \n",
            "0,Wc7~@E\n",
            ".Cz%fTD!P\n",
            "R:*q_LN\n",
            "PJDol7'4f\n",
            "_JuH^\n",
            "if*72kew\n"
          ]
        }
      ],
      "source": [
        "print(\"welcome to our random password generator \") # Welcome to the user\n",
        "\n",
        "def passwordgenerate(): # function use for code reusability\n",
        "   password_length =int(input(\"Enter password length\")) # int use for integer values\n",
        "\n",
        "   lowerdata = string.ascii_lowercase  #string ascii_lowercase will give the lowercase letters ‘abcdefghijklmnopqrstuvwxyz’.\n",
        "   uperdata = string.ascii_uppercase   #string ascii_uppercase will give the uppercase letters ‘ABCDEFGHIJKLMNOPQRSTUVWXYZ’.\n",
        "   digitdata = string.digits           #string.digits will give the lowercase letters ‘0123456789’.\n",
        "   symbolsdata = string.punctuation    #string.punctuation will give the all sets of punctuation.means all special characteristics [!\"#$%&'()*+, -./:;<=>?@[\\]^_`{|}~]\n",
        "\n",
        "   all_data = lowerdata + uperdata + digitdata + symbolsdata # combine all types data\n",
        "   sample = random.sample(all_data,password_length) # the  sample function is  used to create a random sample without replacememt of a specified length\n",
        "   password=\"\".join(sample) # takes all the elements of an iterable and joins them into a single string.\n",
        "   print(password) # call the function\n",
        "   passwordgenerate()\n",
        "passwordgenerate() ##will also call the function that created in def\n",
        "\n",
        "\n",
        "\n",
        "\n"
      ]
    }
  ],
  "metadata": {
    "colab": {
      "provenance": [],
      "authorship_tag": "ABX9TyPbuLDyZ2GMvrVVTpyxfDXi",
      "include_colab_link": true
    },
    "kernelspec": {
      "display_name": "Python 3",
      "name": "python3"
    },
    "language_info": {
      "name": "python"
    }
  },
  "nbformat": 4,
  "nbformat_minor": 0
}